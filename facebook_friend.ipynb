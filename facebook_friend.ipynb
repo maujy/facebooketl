{
 "cells": [
  {
   "cell_type": "markdown",
   "metadata": {},
   "source": [
    "## Selenium\n",
    "\n",
    "### Chrome chromedriver\n",
    "https://chromedriver.storage.googleapis.com/index.html?path=2.28/\n",
    "Unzip downlaoded chromedriver.zip\n",
    "sudo mv ~/Downloads/chromedriver /usr/local/bin/\n",
    "\n",
    "### Firefox geckodriver\n",
    "https://github.com/mozilla/geckodriver/releases\n",
    "tar xzvf gekodriver-v0.19.1-linux64.tar.gz\n",
    "sudo mv ~/Downloads/geckodriver /usr/local/bin/"
   ]
  },
  {
   "cell_type": "code",
   "execution_count": null,
   "metadata": {},
   "outputs": [],
   "source": [
    "!pip install splinter"
   ]
  },
  {
   "cell_type": "code",
   "execution_count": null,
   "metadata": {},
   "outputs": [],
   "source": [
    "#refer to https://python-forum.io/Thread-facebook-friends-crawler\n",
    "#refer to http://blog.munhou.com/facebook-peng-you-da-tou-tie-pa-chong/\n",
    "#Have to add time sleep on click and scrolling for human behavior simulation\n",
    "\n",
    "from selenium import webdriver\n",
    "from selenium.webdriver.common.by import By\n",
    "from selenium.webdriver.common.keys import Keys\n",
    "#from selenium.webdriver.support import expected_conditions as EC\n",
    "#from selenium.webdriver.support.ui import WebDriverWait\n",
    "import time\n",
    "\n",
    "\n",
    "your_email = \"\"\n",
    "your_password = \"\"\n",
    "\n",
    "browser = webdriver.Firefox(executable_path='/usr/local/bin/geckodriver')\n",
    "#browser = webdriver.Chrome(executable_path='/usr/local/bin/chromedriver')\n",
    "\n",
    "def facebook():\n",
    "    CLICK_PAUSE_TIME = 0.5\n",
    "    # login fb\n",
    "    browser.get('https://www.facebook.com')\n",
    "    browser.find_element_by_name('email').send_keys(your_email)\n",
    "    browser.find_element_by_name('pass').send_keys(your_password)\n",
    "    elem = browser.find_element_by_id('loginbutton')\n",
    "    time.sleep(CLICK_PAUSE_TIME)\n",
    "    elem.click()\n",
    "    time.sleep(CLICK_PAUSE_TIME)\n",
    "    get_friend_list()\n",
    "\n",
    "def get_friend_list():\n",
    "    CLICK_PAUSE_TIME = 0.5\n",
    "     # go to profile page\n",
    "    elem = browser.find_element_by_xpath('//a[@title=\"個人檔案\"]')\n",
    "    #elem = browser.find_element_by_xpath('//a[@title=\"Profile\"]')\n",
    "    time.sleep(CLICK_PAUSE_TIME)\n",
    "    elem.click()\n",
    "    time.sleep(CLICK_PAUSE_TIME)\n",
    "\n",
    "    # go to friend page\n",
    "    elem = browser.find_element_by_xpath('//a[@data-tab-key=\"friends\"]')\n",
    "    time.sleep(CLICK_PAUSE_TIME)\n",
    "    elem.click()\n",
    "    time.sleep(CLICK_PAUSE_TIME)\n",
    "\n",
    "    # click on all friends tab\n",
    "    elem = browser.find_element_by_xpath('//a[@name=\"所有朋友\"]')\n",
    "    #elem = browser.find_element_by_xpath('//a[@name=\"All friends\"]')\n",
    "    link = elem.get_attribute('href')\n",
    "    browser.get(link)\n",
    "\n",
    "    # scroll to bottom\n",
    "    scroll_to_bottom()\n",
    "\n",
    "    # get all friend profile page url\n",
    "    elems = browser.find_elements_by_xpath('//div[@class=\"uiProfileBlockContent\"]/div/div/div/a')\n",
    "    profile_pages = [elem.get_attribute('href') for elem in elems]\n",
    "    print(profile_pages)\n",
    "\n",
    "def scroll_to_bottom():\n",
    "    SCROLL_PAUSE_TIME = 0.5\n",
    "    # Get scroll height\n",
    "    last_height = browser.execute_script(\"return document.body.scrollHeight\")\n",
    " \n",
    "    while True:\n",
    "        # Scroll down to bottom\n",
    "        browser.execute_script(\"window.scrollTo(0, document.body.scrollHeight);\")\n",
    " \n",
    "        # Wait to load page\n",
    "        time.sleep(SCROLL_PAUSE_TIME)\n",
    " \n",
    "        # Calculate new scroll height and compare with last scroll height\n",
    "        new_height = browser.execute_script(\"return document.body.scrollHeight\")\n",
    "        if new_height == last_height:\n",
    "            break\n",
    "        last_height = new_height\n",
    "        \n",
    "facebook()"
   ]
  },
  {
   "cell_type": "code",
   "execution_count": null,
   "metadata": {
    "collapsed": true
   },
   "outputs": [],
   "source": []
  }
 ],
 "metadata": {
  "kernelspec": {
   "display_name": "Python 3",
   "language": "python",
   "name": "python3"
  },
  "language_info": {
   "codemirror_mode": {
    "name": "ipython",
    "version": 3
   },
   "file_extension": ".py",
   "mimetype": "text/x-python",
   "name": "python",
   "nbconvert_exporter": "python",
   "pygments_lexer": "ipython3",
   "version": "3.6.3"
  }
 },
 "nbformat": 4,
 "nbformat_minor": 2
}
